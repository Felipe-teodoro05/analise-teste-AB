{
 "cells": [
  {
   "cell_type": "markdown",
   "id": "7408a8c4",
   "metadata": {},
   "source": [
    "# Análise de Teste A/B para Otimização de Funil de Marketing"
   ]
  },
  {
   "cell_type": "markdown",
   "id": "856ef261",
   "metadata": {},
   "source": [
    "## Problema do Negócio\n",
    "-  Este projeto analisa os resultados de um teste A/B para determinar se uma nova campanha de marketing (test) é mais eficaz que a campanha existente (control). O objetivo é fornecer uma recomendação baseada em dados sobre qual campanha alocar recursos.\n",
    "\n",
    "## Metodologia aplicada\n",
    "- A análise foi conduzida em Python, utilizando um funil de conversão completo (CTR, Adição ao Carrinho, Compra). A significância estatística da taxa de compra foi validada com um Teste Z para duas proporções, e a eficiência financeira foi avaliada através do Custo por Aquisição (CPA).\n",
    "\n",
    "## Achados e recomendação\n",
    "-  Embora a campanha de Teste possua um anúncio significativamente mais atrativo (CTR superior), a campanha de Controle é estatisticamente mais eficiente e lucrativa na conversão de visitantes em clientes, apresentando uma taxa de compra superior e um CPA 10% menor. A recomendação estratégica é combinar o anúncio da campanha de Teste com a página de produto da campanha de Controle."
   ]
  },
  {
   "cell_type": "markdown",
   "id": "1bce8d00",
   "metadata": {},
   "source": [
    "---"
   ]
  },
  {
   "cell_type": "markdown",
   "id": "1c573174",
   "metadata": {},
   "source": [
    "## Metadado \n",
    "- Campaign Name: The name of the campaign\n",
    "- Date: Date of the record\n",
    "- Spend: Amount spent on the campaign in dollars\n",
    "- f Impressions: Number of impressions the ad crossed through the campaign\n",
    "- Reach: The number of unique impressions received in the ad\n",
    "- of Website Clicks: Number of website clicks received through the ads\n",
    "- of Searches: Number of users who performed searches on the website\n",
    "- of View Content: Number of users who viewed content and products on the website\n",
    "- of Add to Cart: Number of users who added products to the cart\n",
    "- of Purchase: Number of purchases"
   ]
  },
  {
   "cell_type": "markdown",
   "id": "4d706f98",
   "metadata": {},
   "source": [
    "---"
   ]
  },
  {
   "cell_type": "markdown",
   "id": "3ba8689d",
   "metadata": {},
   "source": [
    "## Bibliotecas utilizadas"
   ]
  },
  {
   "cell_type": "code",
   "execution_count": 29,
   "id": "7c6b48f7",
   "metadata": {},
   "outputs": [],
   "source": [
    "import pandas as pd\n",
    "import seaborn as sns\n",
    "import matplotlib.pyplot as plt\n",
    "from statsmodels.stats.proportion import proportions_ztest"
   ]
  },
  {
   "cell_type": "markdown",
   "id": "957d5166",
   "metadata": {},
   "source": [
    "---"
   ]
  },
  {
   "cell_type": "markdown",
   "id": "0794ec6d",
   "metadata": {},
   "source": [
    "## Preparação e limpeza dos dados"
   ]
  },
  {
   "cell_type": "code",
   "execution_count": 30,
   "id": "fca86401",
   "metadata": {},
   "outputs": [],
   "source": [
    "control_group = pd.read_csv(\"../Data/control_group.csv\", delimiter=\";\")"
   ]
  },
  {
   "cell_type": "code",
   "execution_count": 31,
   "id": "38799c1c",
   "metadata": {},
   "outputs": [],
   "source": [
    "test_group = pd.read_csv(\"../Data/test_group.csv\", delimiter=\";\")"
   ]
  },
  {
   "cell_type": "code",
   "execution_count": 32,
   "id": "1dc221fd",
   "metadata": {},
   "outputs": [
    {
     "data": {
      "text/plain": [
       "Index(['Campaign Name', 'Date', 'Spend [USD]', '# of Impressions', 'Reach',\n",
       "       '# of Website Clicks', '# of Searches', '# of View Content',\n",
       "       '# of Add to Cart', '# of Purchase'],\n",
       "      dtype='object')"
      ]
     },
     "execution_count": 32,
     "metadata": {},
     "output_type": "execute_result"
    }
   ],
   "source": [
    "test_group.columns"
   ]
  },
  {
   "cell_type": "code",
   "execution_count": 33,
   "id": "cb943fc9",
   "metadata": {},
   "outputs": [],
   "source": [
    "test_group[\"Group\"] = \"Test\"\n",
    "control_group[\"Group\"] = \"Control\""
   ]
  },
  {
   "cell_type": "code",
   "execution_count": 34,
   "id": "539f9c7b",
   "metadata": {},
   "outputs": [],
   "source": [
    "df = pd.concat([control_group,test_group], ignore_index=True)"
   ]
  },
  {
   "cell_type": "markdown",
   "id": "f062d414",
   "metadata": {},
   "source": [
    "---"
   ]
  },
  {
   "cell_type": "markdown",
   "id": "443a3e76",
   "metadata": {},
   "source": [
    "## Análise inicial dos dados"
   ]
  },
  {
   "cell_type": "code",
   "execution_count": 35,
   "id": "4e1ffe29",
   "metadata": {},
   "outputs": [
    {
     "name": "stdout",
     "output_type": "stream",
     "text": [
      "<class 'pandas.core.frame.DataFrame'>\n",
      "RangeIndex: 60 entries, 0 to 59\n",
      "Data columns (total 11 columns):\n",
      " #   Column               Non-Null Count  Dtype  \n",
      "---  ------               --------------  -----  \n",
      " 0   Campaign Name        60 non-null     object \n",
      " 1   Date                 60 non-null     object \n",
      " 2   Spend [USD]          60 non-null     int64  \n",
      " 3   # of Impressions     59 non-null     float64\n",
      " 4   Reach                59 non-null     float64\n",
      " 5   # of Website Clicks  59 non-null     float64\n",
      " 6   # of Searches        59 non-null     float64\n",
      " 7   # of View Content    59 non-null     float64\n",
      " 8   # of Add to Cart     59 non-null     float64\n",
      " 9   # of Purchase        59 non-null     float64\n",
      " 10  Group                60 non-null     object \n",
      "dtypes: float64(7), int64(1), object(3)\n",
      "memory usage: 5.3+ KB\n"
     ]
    }
   ],
   "source": [
    "df.info()"
   ]
  },
  {
   "cell_type": "code",
   "execution_count": 36,
   "id": "3c6dcfb6",
   "metadata": {},
   "outputs": [
    {
     "data": {
      "text/html": [
       "<div>\n",
       "<style scoped>\n",
       "    .dataframe tbody tr th:only-of-type {\n",
       "        vertical-align: middle;\n",
       "    }\n",
       "\n",
       "    .dataframe tbody tr th {\n",
       "        vertical-align: top;\n",
       "    }\n",
       "\n",
       "    .dataframe thead th {\n",
       "        text-align: right;\n",
       "    }\n",
       "</style>\n",
       "<table border=\"1\" class=\"dataframe\">\n",
       "  <thead>\n",
       "    <tr style=\"text-align: right;\">\n",
       "      <th></th>\n",
       "      <th>Campaign Name</th>\n",
       "      <th>Date</th>\n",
       "      <th>Spend [USD]</th>\n",
       "      <th># of Impressions</th>\n",
       "      <th>Reach</th>\n",
       "      <th># of Website Clicks</th>\n",
       "      <th># of Searches</th>\n",
       "      <th># of View Content</th>\n",
       "      <th># of Add to Cart</th>\n",
       "      <th># of Purchase</th>\n",
       "      <th>Group</th>\n",
       "    </tr>\n",
       "  </thead>\n",
       "  <tbody>\n",
       "    <tr>\n",
       "      <th>0</th>\n",
       "      <td>Control Campaign</td>\n",
       "      <td>1.08.2019</td>\n",
       "      <td>2280</td>\n",
       "      <td>82702.0</td>\n",
       "      <td>56930.0</td>\n",
       "      <td>7016.0</td>\n",
       "      <td>2290.0</td>\n",
       "      <td>2159.0</td>\n",
       "      <td>1819.0</td>\n",
       "      <td>618.0</td>\n",
       "      <td>Control</td>\n",
       "    </tr>\n",
       "    <tr>\n",
       "      <th>1</th>\n",
       "      <td>Control Campaign</td>\n",
       "      <td>2.08.2019</td>\n",
       "      <td>1757</td>\n",
       "      <td>121040.0</td>\n",
       "      <td>102513.0</td>\n",
       "      <td>8110.0</td>\n",
       "      <td>2033.0</td>\n",
       "      <td>1841.0</td>\n",
       "      <td>1219.0</td>\n",
       "      <td>511.0</td>\n",
       "      <td>Control</td>\n",
       "    </tr>\n",
       "    <tr>\n",
       "      <th>2</th>\n",
       "      <td>Control Campaign</td>\n",
       "      <td>3.08.2019</td>\n",
       "      <td>2343</td>\n",
       "      <td>131711.0</td>\n",
       "      <td>110862.0</td>\n",
       "      <td>6508.0</td>\n",
       "      <td>1737.0</td>\n",
       "      <td>1549.0</td>\n",
       "      <td>1134.0</td>\n",
       "      <td>372.0</td>\n",
       "      <td>Control</td>\n",
       "    </tr>\n",
       "    <tr>\n",
       "      <th>3</th>\n",
       "      <td>Control Campaign</td>\n",
       "      <td>4.08.2019</td>\n",
       "      <td>1940</td>\n",
       "      <td>72878.0</td>\n",
       "      <td>61235.0</td>\n",
       "      <td>3065.0</td>\n",
       "      <td>1042.0</td>\n",
       "      <td>982.0</td>\n",
       "      <td>1183.0</td>\n",
       "      <td>340.0</td>\n",
       "      <td>Control</td>\n",
       "    </tr>\n",
       "    <tr>\n",
       "      <th>4</th>\n",
       "      <td>Control Campaign</td>\n",
       "      <td>5.08.2019</td>\n",
       "      <td>1835</td>\n",
       "      <td>NaN</td>\n",
       "      <td>NaN</td>\n",
       "      <td>NaN</td>\n",
       "      <td>NaN</td>\n",
       "      <td>NaN</td>\n",
       "      <td>NaN</td>\n",
       "      <td>NaN</td>\n",
       "      <td>Control</td>\n",
       "    </tr>\n",
       "    <tr>\n",
       "      <th>5</th>\n",
       "      <td>Control Campaign</td>\n",
       "      <td>6.08.2019</td>\n",
       "      <td>3083</td>\n",
       "      <td>109076.0</td>\n",
       "      <td>87998.0</td>\n",
       "      <td>4028.0</td>\n",
       "      <td>1709.0</td>\n",
       "      <td>1249.0</td>\n",
       "      <td>784.0</td>\n",
       "      <td>764.0</td>\n",
       "      <td>Control</td>\n",
       "    </tr>\n",
       "    <tr>\n",
       "      <th>6</th>\n",
       "      <td>Control Campaign</td>\n",
       "      <td>7.08.2019</td>\n",
       "      <td>2544</td>\n",
       "      <td>142123.0</td>\n",
       "      <td>127852.0</td>\n",
       "      <td>2640.0</td>\n",
       "      <td>1388.0</td>\n",
       "      <td>1106.0</td>\n",
       "      <td>1166.0</td>\n",
       "      <td>499.0</td>\n",
       "      <td>Control</td>\n",
       "    </tr>\n",
       "    <tr>\n",
       "      <th>7</th>\n",
       "      <td>Control Campaign</td>\n",
       "      <td>8.08.2019</td>\n",
       "      <td>1900</td>\n",
       "      <td>90939.0</td>\n",
       "      <td>65217.0</td>\n",
       "      <td>7260.0</td>\n",
       "      <td>3047.0</td>\n",
       "      <td>2746.0</td>\n",
       "      <td>930.0</td>\n",
       "      <td>462.0</td>\n",
       "      <td>Control</td>\n",
       "    </tr>\n",
       "    <tr>\n",
       "      <th>8</th>\n",
       "      <td>Control Campaign</td>\n",
       "      <td>9.08.2019</td>\n",
       "      <td>2813</td>\n",
       "      <td>121332.0</td>\n",
       "      <td>94896.0</td>\n",
       "      <td>6198.0</td>\n",
       "      <td>2487.0</td>\n",
       "      <td>2179.0</td>\n",
       "      <td>645.0</td>\n",
       "      <td>501.0</td>\n",
       "      <td>Control</td>\n",
       "    </tr>\n",
       "    <tr>\n",
       "      <th>9</th>\n",
       "      <td>Control Campaign</td>\n",
       "      <td>10.08.2019</td>\n",
       "      <td>2149</td>\n",
       "      <td>117624.0</td>\n",
       "      <td>91257.0</td>\n",
       "      <td>2277.0</td>\n",
       "      <td>2475.0</td>\n",
       "      <td>1984.0</td>\n",
       "      <td>1629.0</td>\n",
       "      <td>734.0</td>\n",
       "      <td>Control</td>\n",
       "    </tr>\n",
       "  </tbody>\n",
       "</table>\n",
       "</div>"
      ],
      "text/plain": [
       "      Campaign Name        Date  Spend [USD]  # of Impressions     Reach  \\\n",
       "0  Control Campaign   1.08.2019         2280           82702.0   56930.0   \n",
       "1  Control Campaign   2.08.2019         1757          121040.0  102513.0   \n",
       "2  Control Campaign   3.08.2019         2343          131711.0  110862.0   \n",
       "3  Control Campaign   4.08.2019         1940           72878.0   61235.0   \n",
       "4  Control Campaign   5.08.2019         1835               NaN       NaN   \n",
       "5  Control Campaign   6.08.2019         3083          109076.0   87998.0   \n",
       "6  Control Campaign   7.08.2019         2544          142123.0  127852.0   \n",
       "7  Control Campaign   8.08.2019         1900           90939.0   65217.0   \n",
       "8  Control Campaign   9.08.2019         2813          121332.0   94896.0   \n",
       "9  Control Campaign  10.08.2019         2149          117624.0   91257.0   \n",
       "\n",
       "   # of Website Clicks  # of Searches  # of View Content  # of Add to Cart  \\\n",
       "0               7016.0         2290.0             2159.0            1819.0   \n",
       "1               8110.0         2033.0             1841.0            1219.0   \n",
       "2               6508.0         1737.0             1549.0            1134.0   \n",
       "3               3065.0         1042.0              982.0            1183.0   \n",
       "4                  NaN            NaN                NaN               NaN   \n",
       "5               4028.0         1709.0             1249.0             784.0   \n",
       "6               2640.0         1388.0             1106.0            1166.0   \n",
       "7               7260.0         3047.0             2746.0             930.0   \n",
       "8               6198.0         2487.0             2179.0             645.0   \n",
       "9               2277.0         2475.0             1984.0            1629.0   \n",
       "\n",
       "   # of Purchase    Group  \n",
       "0          618.0  Control  \n",
       "1          511.0  Control  \n",
       "2          372.0  Control  \n",
       "3          340.0  Control  \n",
       "4            NaN  Control  \n",
       "5          764.0  Control  \n",
       "6          499.0  Control  \n",
       "7          462.0  Control  \n",
       "8          501.0  Control  \n",
       "9          734.0  Control  "
      ]
     },
     "execution_count": 36,
     "metadata": {},
     "output_type": "execute_result"
    }
   ],
   "source": [
    "df.head(10)"
   ]
  },
  {
   "cell_type": "code",
   "execution_count": 37,
   "id": "f4a6b310",
   "metadata": {},
   "outputs": [
    {
     "data": {
      "text/plain": [
       "Campaign Name          0\n",
       "Date                   0\n",
       "Spend [USD]            0\n",
       "# of Impressions       1\n",
       "Reach                  1\n",
       "# of Website Clicks    1\n",
       "# of Searches          1\n",
       "# of View Content      1\n",
       "# of Add to Cart       1\n",
       "# of Purchase          1\n",
       "Group                  0\n",
       "dtype: int64"
      ]
     },
     "execution_count": 37,
     "metadata": {},
     "output_type": "execute_result"
    }
   ],
   "source": [
    "df.isna().sum()"
   ]
  },
  {
   "cell_type": "markdown",
   "id": "94898989",
   "metadata": {},
   "source": [
    "## Análise de valor vazio\n",
    "Durante a fase de limpeza dos dados, foi identificada uma única linha (referente ao dia 05.08.2019 no grupo de controle) com múltiplos valores ausentes em colunas críticas para o cálculo das taxas de conversão. Dado o baixo impacto da remoção de uma única observação no conjunto de dados geral, a linha foi completamente removida para garantir a integridade e a precisão da análise subsequente."
   ]
  },
  {
   "cell_type": "code",
   "execution_count": 38,
   "id": "5768be1b",
   "metadata": {},
   "outputs": [],
   "source": [
    "# Removendo a linha com valores ausentes\n",
    "df= df.dropna()"
   ]
  },
  {
   "cell_type": "markdown",
   "id": "6fcab250",
   "metadata": {},
   "source": [
    "## Análise descritiva"
   ]
  },
  {
   "cell_type": "code",
   "execution_count": 39,
   "id": "d747620a",
   "metadata": {},
   "outputs": [
    {
     "data": {
      "text/html": [
       "<div>\n",
       "<style scoped>\n",
       "    .dataframe tbody tr th:only-of-type {\n",
       "        vertical-align: middle;\n",
       "    }\n",
       "\n",
       "    .dataframe tbody tr th {\n",
       "        vertical-align: top;\n",
       "    }\n",
       "\n",
       "    .dataframe thead th {\n",
       "        text-align: right;\n",
       "    }\n",
       "</style>\n",
       "<table border=\"1\" class=\"dataframe\">\n",
       "  <thead>\n",
       "    <tr style=\"text-align: right;\">\n",
       "      <th></th>\n",
       "      <th>Campaign Name</th>\n",
       "      <th>Date</th>\n",
       "      <th>Spend [USD]</th>\n",
       "      <th># of Impressions</th>\n",
       "      <th>Reach</th>\n",
       "      <th># of Website Clicks</th>\n",
       "      <th># of Searches</th>\n",
       "      <th># of View Content</th>\n",
       "      <th># of Add to Cart</th>\n",
       "      <th># of Purchase</th>\n",
       "    </tr>\n",
       "    <tr>\n",
       "      <th>Group</th>\n",
       "      <th></th>\n",
       "      <th></th>\n",
       "      <th></th>\n",
       "      <th></th>\n",
       "      <th></th>\n",
       "      <th></th>\n",
       "      <th></th>\n",
       "      <th></th>\n",
       "      <th></th>\n",
       "      <th></th>\n",
       "    </tr>\n",
       "  </thead>\n",
       "  <tbody>\n",
       "    <tr>\n",
       "      <th>Control</th>\n",
       "      <td>Control CampaignControl CampaignControl Campai...</td>\n",
       "      <td>1.08.20192.08.20193.08.20194.08.20196.08.20197...</td>\n",
       "      <td>66818</td>\n",
       "      <td>3177233.0</td>\n",
       "      <td>2576503.0</td>\n",
       "      <td>154303.0</td>\n",
       "      <td>64418.0</td>\n",
       "      <td>56370.0</td>\n",
       "      <td>37700.0</td>\n",
       "      <td>15161.0</td>\n",
       "    </tr>\n",
       "    <tr>\n",
       "      <th>Test</th>\n",
       "      <td>Test CampaignTest CampaignTest CampaignTest Ca...</td>\n",
       "      <td>1.08.20192.08.20193.08.20194.08.20195.08.20196...</td>\n",
       "      <td>76892</td>\n",
       "      <td>2237544.0</td>\n",
       "      <td>1604747.0</td>\n",
       "      <td>180970.0</td>\n",
       "      <td>72569.0</td>\n",
       "      <td>55740.0</td>\n",
       "      <td>26446.0</td>\n",
       "      <td>15637.0</td>\n",
       "    </tr>\n",
       "  </tbody>\n",
       "</table>\n",
       "</div>"
      ],
      "text/plain": [
       "                                             Campaign Name  \\\n",
       "Group                                                        \n",
       "Control  Control CampaignControl CampaignControl Campai...   \n",
       "Test     Test CampaignTest CampaignTest CampaignTest Ca...   \n",
       "\n",
       "                                                      Date  Spend [USD]  \\\n",
       "Group                                                                     \n",
       "Control  1.08.20192.08.20193.08.20194.08.20196.08.20197...        66818   \n",
       "Test     1.08.20192.08.20193.08.20194.08.20195.08.20196...        76892   \n",
       "\n",
       "         # of Impressions      Reach  # of Website Clicks  # of Searches  \\\n",
       "Group                                                                      \n",
       "Control         3177233.0  2576503.0             154303.0        64418.0   \n",
       "Test            2237544.0  1604747.0             180970.0        72569.0   \n",
       "\n",
       "         # of View Content  # of Add to Cart  # of Purchase  \n",
       "Group                                                        \n",
       "Control            56370.0           37700.0        15161.0  \n",
       "Test               55740.0           26446.0        15637.0  "
      ]
     },
     "execution_count": 39,
     "metadata": {},
     "output_type": "execute_result"
    }
   ],
   "source": [
    "df.groupby(\"Group\").sum()"
   ]
  },
  {
   "cell_type": "markdown",
   "id": "4bef51bf",
   "metadata": {},
   "source": [
    "Para começar podemos perceber que na nova campanha houve um maior gasto, porém menos impressões e o anúncio conseguiu mais cliques, houve mais buscas, o ideal agora é transformar esses números absolutos em métricas de eficiência (taxas). É isso que vai nos permitir comparar as duas campanhas de forma justa, independentemente do quanto foi gasto em cada uma"
   ]
  },
  {
   "cell_type": "markdown",
   "id": "0b436a11",
   "metadata": {},
   "source": [
    "---"
   ]
  },
  {
   "cell_type": "markdown",
   "id": "8bc0dd3c",
   "metadata": {},
   "source": [
    "## Análise Exploratória: Funil de Conversão\n",
    "### Calculando métricas de eficiência"
   ]
  },
  {
   "cell_type": "markdown",
   "id": "6ac81e9b",
   "metadata": {},
   "source": [
    "### CTR"
   ]
  },
  {
   "cell_type": "code",
   "execution_count": 40,
   "id": "4724e757",
   "metadata": {},
   "outputs": [
    {
     "name": "stdout",
     "output_type": "stream",
     "text": [
      "CTR Média por Grupo: Group\n",
      "Control     5.095871\n",
      "Test       10.242260\n",
      "Name: CTR, dtype: float64\n"
     ]
    }
   ],
   "source": [
    "# Taxa de clique (CTR - Click Through Rate)\n",
    "df[\"CTR\"] = (df[\"# of Website Clicks\"] / df[\"# of Impressions\"]) * 100\n",
    "\n",
    "# Calcular a média de CTR por grupo\n",
    "ctr_media = df[\"CTR\"].groupby(df[\"Group\"]).mean()\n",
    "print(f\"CTR Média por Grupo: { ctr_media }\")"
   ]
  },
  {
   "cell_type": "code",
   "execution_count": 41,
   "id": "28986d0f",
   "metadata": {},
   "outputs": [
    {
     "name": "stderr",
     "output_type": "stream",
     "text": [
      "C:\\Users\\felipe.bandeira\\AppData\\Local\\Temp\\ipykernel_12372\\3676208383.py:6: FutureWarning: \n",
      "\n",
      "Passing `palette` without assigning `hue` is deprecated and will be removed in v0.14.0. Assign the `x` variable to `hue` and set `legend=False` for the same effect.\n",
      "\n",
      "  sns.barplot(x = \"Group\", y = \"CTR\", data = df, palette=\"viridis\")\n"
     ]
    },
    {
     "data": {
      "image/png": "[encoded data removed]",
      "text/plain": [
       "<Figure size 800x600 with 1 Axes>"
      ]
     },
     "metadata": {},
     "output_type": "display_data"
    }
   ],
   "source": [
    "# Visualização \n",
    "# Tamanho da figura\n",
    "plt.figure(figsize=(8, 6))\n",
    "\n",
    "# Gráfico de barras\n",
    "sns.barplot(x = \"Group\", y = \"CTR\", data = df, palette=\"viridis\")\n",
    "\n",
    "# Título e rótulos\n",
    "plt.title(\"CTR por Grupo\", fontsize=16)\n",
    "plt.ylabel(\"CTR (%)\", fontsize=14)\n",
    "plt.xlabel(\"Grupo\", fontsize=14)\n",
    "plt.show()"
   ]
  },
  {
   "cell_type": "markdown",
   "id": "6e9c17b9",
   "metadata": {},
   "source": [
    "### Insight CTR\n",
    "- A campanha de Teste apresentou um CTR médio de 10.24%, significativamente maior que o CTR de 5.09% da campanha de Controle. Isso indica que o anúncio ou a segmentação do grupo de teste foi muito mais eficaz em atrair o interesse do público e gerar cliques a partir das impressões."
   ]
  },
  {
   "cell_type": "markdown",
   "id": "de9f6c45",
   "metadata": {},
   "source": [
    "### Insight das barras pretas no gráfico\n",
    "- Agora, a parte mais interessante. Essas linhas pretas no topo das barras são as barras de erro. Por padrão na biblioteca Seaborn, elas representam o intervalo de confiança de 95% para a média que está sendo exibida. Elas nos dão uma ideia da variabilidade e da certeza que temos sobre aquele valor médio.\n",
    "\n",
    "    - Portanto, se os intervalos de confiança dos dois grupos não se sobrepõem, é um forte indicativo de que a diferença entre eles é estatisticamente significativa.\n",
    "    - O topo do intervalo de confiança do grupo \"Control\" fica por volta de 6%.\n",
    "    - A base do intervalo de confiança do grupo \"Test\" começa por volta de 8%.\n",
    "Eles não se cruzam de forma alguma.\n",
    "\n",
    "- Isso nos dá uma confiança muito alta de que a performance superior do CTR do grupo de Teste não é um acaso, ou seja, diferença é real e significativa. Quando formos fazer o teste de hipótese formal para o CTR, é quase certo que o p-valor será muito baixo (bem menor que 0.05)."
   ]
  },
  {
   "cell_type": "markdown",
   "id": "f85d3089",
   "metadata": {},
   "source": [
    "---"
   ]
  },
  {
   "cell_type": "markdown",
   "id": "cccbb8f1",
   "metadata": {},
   "source": [
    "### Taxa adicionar no carrinho"
   ]
  },
  {
   "cell_type": "code",
   "execution_count": 42,
   "id": "50f3a7e8",
   "metadata": {},
   "outputs": [
    {
     "name": "stdout",
     "output_type": "stream",
     "text": [
      "Taxa de Adicionar no Carrinho Média por Grupo: Group\n",
      "Control    27.820856\n",
      "Test       15.791233\n",
      "Name: Taxa_add_carrinho, dtype: float64\n"
     ]
    }
   ],
   "source": [
    "# Taxa de adicionar no carrinho (Add to Cart Rate)\n",
    "df[\"Taxa_add_carrinho\"] = (df[\"# of Add to Cart\"] / df[\"# of Website Clicks\"]) * 100\n",
    "\n",
    "media_add_carrinho = df[\"Taxa_add_carrinho\"].groupby(df[\"Group\"]).mean()\n",
    "print(f\"Taxa de Adicionar no Carrinho Média por Grupo: { media_add_carrinho }\")"
   ]
  },
  {
   "cell_type": "code",
   "execution_count": 43,
   "id": "c018f933",
   "metadata": {},
   "outputs": [
    {
     "name": "stderr",
     "output_type": "stream",
     "text": [
      "C:\\Users\\felipe.bandeira\\AppData\\Local\\Temp\\ipykernel_12372\\3471489730.py:5: FutureWarning: \n",
      "\n",
      "Passing `palette` without assigning `hue` is deprecated and will be removed in v0.14.0. Assign the `x` variable to `hue` and set `legend=False` for the same effect.\n",
      "\n",
      "  sns.barplot(x='Group', y='Taxa_add_carrinho', data=df, palette='viridis')\n"
     ]
    },
    {
     "data": {
      "image/png": "[encoded data removed]",
      "text/plain": [
       "<Figure size 800x600 with 1 Axes>"
      ]
     },
     "metadata": {},
     "output_type": "display_data"
    }
   ],
   "source": [
    "# Visualização\n",
    "# Tamanho da figura\n",
    "plt.figure(figsize=(8, 6))\n",
    "\n",
    "sns.barplot(x='Group', y='Taxa_add_carrinho', data=df, palette='viridis')\n",
    "\n",
    "# Título e rótulos\n",
    "plt.title('Taxa de Adição ao Carrinho Média por Grupo', fontsize=16)\n",
    "plt.ylabel('Taxa de Adição ao Carrinho Média (%)', fontsize=12)\n",
    "plt.xlabel('Grupo', fontsize=12)\n",
    "plt.show()"
   ]
  },
  {
   "cell_type": "markdown",
   "id": "54b9d463",
   "metadata": {},
   "source": [
    "### Insight Taxa de adição ao carrinho\n",
    "- O grupo de Controle é massivamente superior em convencer os usuários a adicionarem produtos ao carrinho, com uma taxa de quase 28%, enquanto o grupo de Teste convence apenas cerca de 16% "
   ]
  },
  {
   "cell_type": "markdown",
   "id": "a2cfdaae",
   "metadata": {},
   "source": [
    "---"
   ]
  },
  {
   "cell_type": "markdown",
   "id": "cb2d37f2",
   "metadata": {},
   "source": [
    "### Taxa de compra"
   ]
  },
  {
   "cell_type": "code",
   "execution_count": 44,
   "id": "83371275",
   "metadata": {},
   "outputs": [
    {
     "name": "stdout",
     "output_type": "stream",
     "text": [
      "Taxa de Compra Média por Grupo: Group\n",
      "Control    11.477203\n",
      "Test        9.231182\n",
      "Name: Taxa_compra, dtype: float64\n"
     ]
    }
   ],
   "source": [
    "# Taxa de compra (Purchase Rate)\n",
    "df[\"Taxa_compra\"] = (df[\"# of Purchase\"] / df[\"# of Website Clicks\"]) * 100\n",
    "\n",
    "media_compra = df[\"Taxa_compra\"].groupby(df[\"Group\"]).mean()\n",
    "print(f\"Taxa de Compra Média por Grupo: { media_compra }\")"
   ]
  },
  {
   "cell_type": "code",
   "execution_count": 45,
   "id": "2287f889",
   "metadata": {},
   "outputs": [
    {
     "name": "stderr",
     "output_type": "stream",
     "text": [
      "C:\\Users\\felipe.bandeira\\AppData\\Local\\Temp\\ipykernel_12372\\2795530270.py:6: FutureWarning: \n",
      "\n",
      "Passing `palette` without assigning `hue` is deprecated and will be removed in v0.14.0. Assign the `x` variable to `hue` and set `legend=False` for the same effect.\n",
      "\n",
      "  sns.barplot(x = \"Group\", y = \"Taxa_compra\", data=df, palette=\"viridis\")\n"
     ]
    },
    {
     "data": {
      "image/png": "[encoded data removed]",
      "text/plain": [
       "<Figure size 800x600 with 1 Axes>"
      ]
     },
     "metadata": {},
     "output_type": "display_data"
    }
   ],
   "source": [
    "# Visualização \n",
    "# Tamanho da figura\n",
    "plt.figure(figsize=(8, 6))\n",
    "\n",
    "# Gráfico de barras\n",
    "sns.barplot(x = \"Group\", y = \"Taxa_compra\", data=df, palette=\"viridis\")\n",
    "\n",
    "# Título e rótulos\n",
    "plt.title(\"Taxa de Compra por Grupo\", fontsize=16)\n",
    "plt.ylabel(\"Taxa de Compra (%)\", fontsize=14)\n",
    "plt.xlabel(\"Grupo\", fontsize=14)\n",
    "plt.show()"
   ]
  },
  {
   "cell_type": "markdown",
   "id": "b1dec2af",
   "metadata": {},
   "source": [
    "### Insight Taxa de compras\n",
    "- Ao olhar somente os valores da taxa de compra, a taxa de compra média do grupo de Controle (11.48%) é visivelmente maior que a do grupo de Teste (9.23%). Em uma análise superficial, poderíamos dizer que a campanha antiga é melhor em converter vendas.\n",
    "- Entretanto, a há uma clara sobreposição das barras de erro dos grupos. Essa sobreposição é a evidência visual de que não podemos afirmar com 95% de confiança que a diferença entre os grupos é significativa. É muito provável que a performance superior do grupo de Controle nesta amostra seja apenas fruto do acaso ou da variabilidade natural dos dados."
   ]
  },
  {
   "cell_type": "markdown",
   "id": "8d63fe40",
   "metadata": {},
   "source": [
    "---"
   ]
  },
  {
   "cell_type": "markdown",
   "id": "c8b1b5e9",
   "metadata": {},
   "source": [
    "## Análise do Funil\n",
    "Essa análise de funil (Taxa de clique, taxa de adicionar no carrinho e taxa de compra) é o que nos dá a visão completa da jornada do cliente e pode nos dizer onde no processo a experiência do usuário divergiu"
   ]
  },
  {
   "cell_type": "markdown",
   "id": "6caae34d",
   "metadata": {},
   "source": [
    "1. O Anúncio (Topo do Funil): A campanha de Teste tem um anúncio brilhante. Ele é criativo, atrativo e funciona como um ímã para gerar cliques (lembra do CTR altíssimo e significativo?).\n",
    "\n",
    "2. A Página de Produto (Meio do Funil): Aqui está o grande problema. Embora o anúncio da campanha de Teste traga muitas pessoas para a \"loja\", a página de produto não as convence. Os usuários chegam, olham e vão embora sem adicionar o produto ao carrinho. A página da campanha de Controle, por outro lado, é muito mais eficaz em persuadir o visitante a dar o próximo passo.\n",
    "\n",
    "3. A Venda (Fundo do Funil): Essa enorme \"hemorragia\" de usuários na etapa de adicionar ao carrinho no grupo de Teste é o que, no final, leva a uma taxa de compra inferior. O problema principal não está no processo de checkout, mas sim na página do produto em si."
   ]
  },
  {
   "cell_type": "markdown",
   "id": "06441185",
   "metadata": {},
   "source": [
    "---"
   ]
  },
  {
   "cell_type": "markdown",
   "id": "d27b60e7",
   "metadata": {},
   "source": [
    "## Teste de Hipótese: Validação Estatística\n",
    "- Para realizar um teste de proporção robusto, não usamos as taxas diárias. Em vez disso, agregamos (somamos) todos os eventos ao longo do período inteiro. Isso nos dá uma visão geral e mais estável da performance de cada grupo."
   ]
  },
  {
   "cell_type": "code",
   "execution_count": null,
   "id": "7571180f",
   "metadata": {},
   "outputs": [
    {
     "name": "stdout",
     "output_type": "stream",
     "text": [
      "Controle: 15161.0 compras de 154303.0 cliques.\n",
      "Teste: 15637.0 compras de 180970.0 cliques.\n"
     ]
    }
   ],
   "source": [
    "# Obter os totais para o grupo de Controle\n",
    "compras_control = df[df['Group'] == 'Control']['# of Purchase'].sum()\n",
    "cliques_control = df[df['Group'] == 'Control']['# of Website Clicks'].sum()\n",
    "\n",
    "# Obter os totais para o grupo de Teste\n",
    "compras_test = df[df['Group'] == 'Test']['# of Purchase'].sum()\n",
    "cliques_test = df[df['Group'] == 'Test']['# of Website Clicks'].sum()\n",
    "\n",
    "print(f\"Controle: {compras_control} compras de {cliques_control} cliques.\")\n",
    "print(f\"Teste: {compras_test} compras de {cliques_test} cliques.\")"
   ]
  },
  {
   "cell_type": "code",
   "execution_count": 49,
   "id": "9aa1c9c3",
   "metadata": {},
   "outputs": [
    {
     "name": "stdout",
     "output_type": "stream",
     "text": [
      "P-Valor do teste: 0.00000\n",
      "Rejeitamos a hipótese nula. Há uma diferença significativa entre os grupos.\n"
     ]
    }
   ],
   "source": [
    "# Criando uma lista com o número de sucessos (compras) de cada grupo\n",
    "# A ordem é [Teste, Controle], mas poderia ser ao contrário desde que trocasse a ordem na lista de nobs\n",
    "count = [compras_test, compras_control] \n",
    "\n",
    "# Criando uma lista com o número de tentativas (cliques) de cada grupo\n",
    "nobs = [cliques_test, cliques_control]\n",
    "\n",
    "# Executando o teste\n",
    "stat, p_value = proportions_ztest(count, nobs)\n",
    "\n",
    "# Exiba o resultado formatado\n",
    "print(f'P-Valor do teste: {p_value:.5f}')\n",
    "if p_value < 0.05:\n",
    "    print(\"Rejeitamos a hipótese nula. Há uma diferença significativa entre os grupos.\")\n",
    "else:\n",
    "    print(\"Não rejeitamos a hipótese nula. Não há diferença significativa entre os grupos.\")"
   ]
  },
  {
   "cell_type": "markdown",
   "id": "3c87f2ed",
   "metadata": {},
   "source": [
    "### Breve explicação da função proportions_ztest\n",
    "1. `stat`: O valor da estatística Z (o \"Z-score\"). Mede quantos desvios padrão a diferença observada está longe da hipótese nula (de que não há diferença).\n",
    "2. `p_value`: O P-Valor. Esta é a métrica mais importante para nós."
   ]
  },
  {
   "cell_type": "markdown",
   "id": "8af3e96f",
   "metadata": {},
   "source": [
    "## Análise do P-Valor\n",
    "- A análise visual inicial, baseada nas médias das taxas de compra diárias, sugere que a diferença pode não ser significativa devido à sobreposição das barras de erro, que refletem a alta variabilidade diária. No entanto, ao realizar um teste Z de proporções com os dados agregados (o método padrão para testes A/B), encontramos um p-valor de 0.00000. Isso confirma que a taxa de compra do grupo de Controle é, de fato, estatisticamente superior à do grupo de Teste, embora a diferença absoluta seja pequena. Essa descoberta reforça a conclusão de que a página do grupo Controle é mais eficaz na conversão final."
   ]
  },
  {
   "cell_type": "markdown",
   "id": "04755173",
   "metadata": {},
   "source": [
    "---\n"
   ]
  },
  {
   "cell_type": "markdown",
   "id": "0244a0e5",
   "metadata": {},
   "source": [
    "## Custo por Aquisição (CPA)\n",
    "-  Saber quanto foi gasto por cada venda"
   ]
  },
  {
   "cell_type": "code",
   "execution_count": null,
   "id": "548ed39f",
   "metadata": {},
   "outputs": [
    {
     "name": "stdout",
     "output_type": "stream",
     "text": [
      "Custo por Aquisição (CPA) por Grupo: Group\n",
      "Control    4.407229\n",
      "Test       4.917312\n",
      "dtype: float64\n"
     ]
    }
   ],
   "source": [
    "# Calcular gasto total e compras totais por grupo\n",
    "gasto_total = df.groupby(\"Group\")[\"Spend [USD]\"].sum()\n",
    "compras_totais = df.groupby(\"Group\")[\"# of Purchase\"].sum()\n",
    "\n",
    "# Calcular CPA (Custo por Aquisição)\n",
    "cpa = gasto_total / compras_totais\n",
    "print(f\"Custo por Aquisição (CPA) por Grupo: {cpa}\")"
   ]
  },
  {
   "cell_type": "markdown",
   "id": "4ab9aa67",
   "metadata": {},
   "source": [
    "### Insight CPA\n",
    "- Não apenas a campanha de Controle converte cliques em compras de forma mais eficiente (como provado pelo teste Z), mas também cada venda gerada por ela custa R$ 0,51 a menos que na campanha de Teste\n",
    "- Apesar de o anúncio da campanha de Teste ser mais atrativo (maior CTR), a estrutura da campanha de Controle é mais lucrativa, pois converte melhor os visitantes e gera vendas a um custo menor."
   ]
  },
  {
   "cell_type": "markdown",
   "id": "39f4a32c",
   "metadata": {},
   "source": [
    "---"
   ]
  },
  {
   "cell_type": "markdown",
   "id": "8ca0a072",
   "metadata": {},
   "source": [
    "## Conclusão\n",
    "1. Atratividade vs. Eficiência: A Campanha de Teste é inegavelmente superior em atrair a atenção do público, com um CTR (Taxa de Clique) quase o dobro da campanha de Controle. Seu anúncio é mais eficaz em gerar tráfego.\n",
    "\n",
    "2. Conversão e Lucratividade: No entanto, a Campanha de Controle demonstra uma performance estatisticamente superior e mais lucrativa nas etapas cruciais do funil. Ela converte visitantes em compradores a uma taxa significativamente maior (validado com p-valor < 0.001) e a um custo por aquisição 10% menor."
   ]
  },
  {
   "cell_type": "markdown",
   "id": "8e292900",
   "metadata": {},
   "source": [
    "## Recomendação Final\n",
    "- A recomendação estratégica é a criação de uma campanha híbrida que utilize o melhor de ambos os mundos: o anúncio da Campanha de Teste para maximizar a geração de tráfego, direcionando os usuários para a página de produto e experiência de compra da Campanha de Controle, que é mais eficiente na conversão."
   ]
  }
 ],
 "metadata": {
  "kernelspec": {
   "display_name": "Python 3",
   "language": "python",
   "name": "python3"
  },
  "language_info": {
   "codemirror_mode": {
    "name": "ipython",
    "version": 3
   },
   "file_extension": ".py",
   "mimetype": "text/x-python",
   "name": "python",
   "nbconvert_exporter": "python",
   "pygments_lexer": "ipython3",
   "version": "3.11.9"
  }
 },
 "nbformat": 4,
 "nbformat_minor": 5
}
